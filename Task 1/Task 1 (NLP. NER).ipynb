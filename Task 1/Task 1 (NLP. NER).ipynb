{
 "cells": [
  {
   "cell_type": "code",
   "execution_count": 61,
   "metadata": {
    "collapsed": true
   },
   "outputs": [],
   "source": [
    "import pandas as pd\n",
    "import numpy as np\n",
    "import matplotlib.pyplot  as plt\n",
    "import matplotlib.image as mpimg\n",
    "from scipy import stats\n",
    "import ast\n",
    "import re\n",
    "\n",
    "import spacy\n",
    "from spacy import displacy\n",
    "from spacy.tokens import DocBin\n",
    "from tqdm import tqdm\n",
    "from spacy.util import filter_spans"
   ]
  },
  {
   "cell_type": "markdown",
   "metadata": {},
   "source": [
    "# Dataset overview"
   ]
  },
  {
   "cell_type": "markdown",
   "metadata": {},
   "source": [
    "To start, it is necessary to make or select a dataset with names of mountains for further work with it. After a small search in the Internet was found a dataset on [Kaggle](https://www.kaggle.com/datasets/geraygench/mountain-ner-dataset/data), which contains sentences with labeled names of mountains. Therefore, we will take it as a basis.\n",
    "Let's take a look at it"
   ]
  },
  {
   "cell_type": "code",
   "execution_count": 28,
   "metadata": {
    "pycharm": {
     "name": "#%%\n"
    }
   },
   "outputs": [],
   "source": [
    "df_m = pd.read_csv('mountain_dataset_with_markup.csv')"
   ]
  },
  {
   "cell_type": "code",
   "execution_count": 29,
   "metadata": {
    "pycharm": {
     "name": "#%%\n"
    }
   },
   "outputs": [
    {
     "data": {
      "text/html": [
       "<div>\n",
       "<style scoped>\n",
       "    .dataframe tbody tr th:only-of-type {\n",
       "        vertical-align: middle;\n",
       "    }\n",
       "\n",
       "    .dataframe tbody tr th {\n",
       "        vertical-align: top;\n",
       "    }\n",
       "\n",
       "    .dataframe thead th {\n",
       "        text-align: right;\n",
       "    }\n",
       "</style>\n",
       "<table border=\"1\" class=\"dataframe\">\n",
       "  <thead>\n",
       "    <tr style=\"text-align: right;\">\n",
       "      <th></th>\n",
       "      <th>text</th>\n",
       "      <th>marker</th>\n",
       "    </tr>\n",
       "  </thead>\n",
       "  <tbody>\n",
       "    <tr>\n",
       "      <th>0</th>\n",
       "      <td>A visit to a science museum for hands-on learn...</td>\n",
       "      <td>[]</td>\n",
       "    </tr>\n",
       "    <tr>\n",
       "      <th>1</th>\n",
       "      <td>Voice surface coach set democratic time year. ...</td>\n",
       "      <td>[]</td>\n",
       "    </tr>\n",
       "    <tr>\n",
       "      <th>2</th>\n",
       "      <td>Parent according maybe activity activity finis...</td>\n",
       "      <td>[]</td>\n",
       "    </tr>\n",
       "    <tr>\n",
       "      <th>3</th>\n",
       "      <td>A visit to a sculpture garden with intriguing ...</td>\n",
       "      <td>[]</td>\n",
       "    </tr>\n",
       "    <tr>\n",
       "      <th>4</th>\n",
       "      <td>The Julian Alps in Slovenia offer pristine lak...</td>\n",
       "      <td>[(11, 15)]</td>\n",
       "    </tr>\n",
       "    <tr>\n",
       "      <th>5</th>\n",
       "      <td>The referee blows the whistle, signaling the e...</td>\n",
       "      <td>[]</td>\n",
       "    </tr>\n",
       "    <tr>\n",
       "      <th>6</th>\n",
       "      <td>Again eat owner drop. Stay recognize none size...</td>\n",
       "      <td>[]</td>\n",
       "    </tr>\n",
       "    <tr>\n",
       "      <th>7</th>\n",
       "      <td>Important nearly themselves particular sort cl...</td>\n",
       "      <td>[]</td>\n",
       "    </tr>\n",
       "    <tr>\n",
       "      <th>8</th>\n",
       "      <td>Wonder behind everybody dream. Owner much anal...</td>\n",
       "      <td>[]</td>\n",
       "    </tr>\n",
       "    <tr>\n",
       "      <th>9</th>\n",
       "      <td>Phone station white leave image.\\nSeem Mrs bed...</td>\n",
       "      <td>[]</td>\n",
       "    </tr>\n",
       "    <tr>\n",
       "      <th>10</th>\n",
       "      <td>Ten be ten cover use meeting. Season indeed se...</td>\n",
       "      <td>[]</td>\n",
       "    </tr>\n",
       "    <tr>\n",
       "      <th>11</th>\n",
       "      <td>Manage trade stand site fund administration. C...</td>\n",
       "      <td>[]</td>\n",
       "    </tr>\n",
       "    <tr>\n",
       "      <th>12</th>\n",
       "      <td>Care energy fast almost player source. When vo...</td>\n",
       "      <td>[]</td>\n",
       "    </tr>\n",
       "    <tr>\n",
       "      <th>13</th>\n",
       "      <td>The Dolomites in Italy are famous for their un...</td>\n",
       "      <td>[(4, 13)]</td>\n",
       "    </tr>\n",
       "    <tr>\n",
       "      <th>14</th>\n",
       "      <td>Civil film yet turn top. Event structure conce...</td>\n",
       "      <td>[]</td>\n",
       "    </tr>\n",
       "  </tbody>\n",
       "</table>\n",
       "</div>"
      ],
      "text/plain": [
       "                                                 text      marker\n",
       "0   A visit to a science museum for hands-on learn...          []\n",
       "1   Voice surface coach set democratic time year. ...          []\n",
       "2   Parent according maybe activity activity finis...          []\n",
       "3   A visit to a sculpture garden with intriguing ...          []\n",
       "4   The Julian Alps in Slovenia offer pristine lak...  [(11, 15)]\n",
       "5   The referee blows the whistle, signaling the e...          []\n",
       "6   Again eat owner drop. Stay recognize none size...          []\n",
       "7   Important nearly themselves particular sort cl...          []\n",
       "8   Wonder behind everybody dream. Owner much anal...          []\n",
       "9   Phone station white leave image.\\nSeem Mrs bed...          []\n",
       "10  Ten be ten cover use meeting. Season indeed se...          []\n",
       "11  Manage trade stand site fund administration. C...          []\n",
       "12  Care energy fast almost player source. When vo...          []\n",
       "13  The Dolomites in Italy are famous for their un...   [(4, 13)]\n",
       "14  Civil film yet turn top. Event structure conce...          []"
      ]
     },
     "execution_count": 29,
     "metadata": {},
     "output_type": "execute_result"
    }
   ],
   "source": [
    "df_m.head(15)"
   ]
  },
  {
   "cell_type": "code",
   "execution_count": 30,
   "metadata": {
    "pycharm": {
     "name": "#%%\n"
    }
   },
   "outputs": [
    {
     "name": "stdout",
     "output_type": "stream",
     "text": [
      "<class 'pandas.core.frame.DataFrame'>\n",
      "RangeIndex: 1584 entries, 0 to 1583\n",
      "Data columns (total 2 columns):\n",
      " #   Column  Non-Null Count  Dtype \n",
      "---  ------  --------------  ----- \n",
      " 0   text    1584 non-null   object\n",
      " 1   marker  1584 non-null   object\n",
      "dtypes: object(2)\n",
      "memory usage: 24.9+ KB\n"
     ]
    }
   ],
   "source": [
    "df_m.info()"
   ]
  },
  {
   "cell_type": "markdown",
   "metadata": {},
   "source": [
    "It is notable that not all sentences among 1584 have a marker for the name of mountains. In the future we will select only the necessary sentences, since the model does not need empty ones for training."
   ]
  },
  {
   "cell_type": "markdown",
   "metadata": {},
   "source": [
    "Let's start cleaning the dataset from unnecessary rows (with empty marker) and checking for problematic characters/values"
   ]
  },
  {
   "cell_type": "code",
   "execution_count": 31,
   "metadata": {
    "pycharm": {
     "name": "#%%\n"
    }
   },
   "outputs": [
    {
     "data": {
      "text/plain": [
       "text      0\n",
       "marker    0\n",
       "dtype: int64"
      ]
     },
     "execution_count": 31,
     "metadata": {},
     "output_type": "execute_result"
    }
   ],
   "source": [
    "# Check the lines for NaN values\n",
    "df_m.isna().sum()"
   ]
  },
  {
   "cell_type": "code",
   "execution_count": 32,
   "metadata": {
    "pycharm": {
     "name": "#%%\n"
    }
   },
   "outputs": [],
   "source": [
    "# Convert the string representation of lists into real lists\n",
    "df_m['marker'] = df_m['marker'].apply(lambda x: ast.literal_eval(x) if isinstance(x, str) else x)\n",
    "\n",
    "# Filter rows where 'marker' is not empty (the list contains items)\n",
    "filtered_df = df_m[df_m['marker'].apply(lambda x: len(x) > 0)]\n",
    "filtered_df.loc[:, 'marker'] = filtered_df['marker'].apply(lambda x: x[0] if isinstance(x, list) and len(x) > 0 else x)"
   ]
  },
  {
   "cell_type": "code",
   "execution_count": 33,
   "metadata": {
    "pycharm": {
     "name": "#%%\n"
    }
   },
   "outputs": [
    {
     "data": {
      "text/html": [
       "<div>\n",
       "<style scoped>\n",
       "    .dataframe tbody tr th:only-of-type {\n",
       "        vertical-align: middle;\n",
       "    }\n",
       "\n",
       "    .dataframe tbody tr th {\n",
       "        vertical-align: top;\n",
       "    }\n",
       "\n",
       "    .dataframe thead th {\n",
       "        text-align: right;\n",
       "    }\n",
       "</style>\n",
       "<table border=\"1\" class=\"dataframe\">\n",
       "  <thead>\n",
       "    <tr style=\"text-align: right;\">\n",
       "      <th></th>\n",
       "      <th>text</th>\n",
       "      <th>marker</th>\n",
       "    </tr>\n",
       "  </thead>\n",
       "  <tbody>\n",
       "    <tr>\n",
       "      <th>4</th>\n",
       "      <td>The Julian Alps in Slovenia offer pristine lak...</td>\n",
       "      <td>(11, 15)</td>\n",
       "    </tr>\n",
       "    <tr>\n",
       "      <th>13</th>\n",
       "      <td>The Dolomites in Italy are famous for their un...</td>\n",
       "      <td>(4, 13)</td>\n",
       "    </tr>\n",
       "    <tr>\n",
       "      <th>21</th>\n",
       "      <td>Feeling the tranquility and serenity of the An...</td>\n",
       "      <td>(44, 49)</td>\n",
       "    </tr>\n",
       "    <tr>\n",
       "      <th>22</th>\n",
       "      <td>The Carpathian Mountains are a vital part of E...</td>\n",
       "      <td>(4, 24)</td>\n",
       "    </tr>\n",
       "    <tr>\n",
       "      <th>28</th>\n",
       "      <td>I explored the Tatra Mountains, a beautiful ra...</td>\n",
       "      <td>(15, 30)</td>\n",
       "    </tr>\n",
       "    <tr>\n",
       "      <th>...</th>\n",
       "      <td>...</td>\n",
       "      <td>...</td>\n",
       "    </tr>\n",
       "    <tr>\n",
       "      <th>1547</th>\n",
       "      <td>Discover hidden waterfalls and serene lakes ne...</td>\n",
       "      <td>(63, 80)</td>\n",
       "    </tr>\n",
       "    <tr>\n",
       "      <th>1555</th>\n",
       "      <td>I trekked through the Tien Shan mountains in C...</td>\n",
       "      <td>(22, 31)</td>\n",
       "    </tr>\n",
       "    <tr>\n",
       "      <th>1565</th>\n",
       "      <td>I marveled at the beauty of the Blue Ridge Mou...</td>\n",
       "      <td>(32, 52)</td>\n",
       "    </tr>\n",
       "    <tr>\n",
       "      <th>1577</th>\n",
       "      <td>The Kunlun Mountains stretch across western Ch...</td>\n",
       "      <td>(4, 20)</td>\n",
       "    </tr>\n",
       "    <tr>\n",
       "      <th>1580</th>\n",
       "      <td>Witnessing the mesmerizing Northern Lights dan...</td>\n",
       "      <td>(75, 97)</td>\n",
       "    </tr>\n",
       "  </tbody>\n",
       "</table>\n",
       "<p>226 rows × 2 columns</p>\n",
       "</div>"
      ],
      "text/plain": [
       "                                                   text    marker\n",
       "4     The Julian Alps in Slovenia offer pristine lak...  (11, 15)\n",
       "13    The Dolomites in Italy are famous for their un...   (4, 13)\n",
       "21    Feeling the tranquility and serenity of the An...  (44, 49)\n",
       "22    The Carpathian Mountains are a vital part of E...   (4, 24)\n",
       "28    I explored the Tatra Mountains, a beautiful ra...  (15, 30)\n",
       "...                                                 ...       ...\n",
       "1547  Discover hidden waterfalls and serene lakes ne...  (63, 80)\n",
       "1555  I trekked through the Tien Shan mountains in C...  (22, 31)\n",
       "1565  I marveled at the beauty of the Blue Ridge Mou...  (32, 52)\n",
       "1577  The Kunlun Mountains stretch across western Ch...   (4, 20)\n",
       "1580  Witnessing the mesmerizing Northern Lights dan...  (75, 97)\n",
       "\n",
       "[226 rows x 2 columns]"
      ]
     },
     "execution_count": 33,
     "metadata": {},
     "output_type": "execute_result"
    }
   ],
   "source": [
    "filtered_df"
   ]
  },
  {
   "cell_type": "markdown",
   "metadata": {},
   "source": [
    "After cleaning up the dataset, 226 rows remained"
   ]
  },
  {
   "cell_type": "markdown",
   "metadata": {},
   "source": [
    "To give an example, let's try to get the name of the mountains from the first sentence based on the marker"
   ]
  },
  {
   "cell_type": "code",
   "execution_count": 34,
   "metadata": {
    "pycharm": {
     "name": "#%%\n"
    }
   },
   "outputs": [
    {
     "data": {
      "text/plain": [
       "'Alps'"
      ]
     },
     "execution_count": 34,
     "metadata": {},
     "output_type": "execute_result"
    }
   ],
   "source": [
    "filtered_df['text'].iloc[0][filtered_df['marker'].iloc[0][0]:filtered_df['marker'].iloc[0][1]]"
   ]
  },
  {
   "cell_type": "markdown",
   "metadata": {},
   "source": [
    "Let's do a little checking for problematic characters, links, tags and the like."
   ]
  },
  {
   "cell_type": "code",
   "execution_count": 36,
   "metadata": {
    "pycharm": {
     "name": "#%%\n"
    }
   },
   "outputs": [],
   "source": [
    "def preprocess_and_find_problems(text_column):\n",
    "    # Dictionary to store results\n",
    "    results = {\n",
    "        'index': [],\n",
    "        'original_text': [],\n",
    "        'cleaned_text': [],\n",
    "        'removed_links': [],\n",
    "        'removed_telegram_links': [],\n",
    "        'removed_phone_numbers': [],\n",
    "        'removed_tags': [],\n",
    "        'removed_hashtags': [],\n",
    "        'removed_special_chars': [],\n",
    "        'removed_extra_spaces': []\n",
    "    }\n",
    "\n",
    "    # Regular expressions\n",
    "    link_pattern = r'http\\S+|www.\\S+'  # Pattern for detecting regular links\n",
    "    telegram_pattern = r\"(?:https?:\\/\\/)?(?:www\\.)?(?:t\\.me\\/\\S+|telegram\\.me\\/\\S+|telegram\\.dog\\/\\S+)\"  # Telegram links\n",
    "    phone_pattern = r'\\(?\\+?\\d{0,3}\\)?[-.\\s]?\\(?\\d{3}\\)?[-.\\s]?\\d{3}[-.\\s]?\\d{2}[-.\\s]?\\d{2}'  # Phone numbers\n",
    "    tag_pattern = r'@\\w+'  # Tags (e.g., @username)\n",
    "    hashtag_pattern = r'#\\w+' # Hashtags (e.g., #home)\n",
    "    special_chars_pattern = r'[\\n\\t\\r]'  # Special characters (newline, tab, carriage return)\n",
    "    extra_spaces_pattern = r' +'  # Extra spaces (two or more consecutive spaces)\n",
    "\n",
    "    for idx, text in enumerate(text_column):\n",
    "        original_text = text\n",
    "\n",
    "        # Remove links\n",
    "        removed_links = re.findall(link_pattern, text)\n",
    "        text = re.sub(link_pattern, '', text)\n",
    "\n",
    "        # Remove telegram links\n",
    "        removed_telegram_links = re.findall(telegram_pattern, text)\n",
    "        text = re.sub(telegram_pattern, '', text)\n",
    "\n",
    "        # Remove phone numbers\n",
    "        removed_phone_numbers = re.findall(phone_pattern, text)\n",
    "        text = re.sub(phone_pattern, '', text)\n",
    "\n",
    "        # Remove tags (@username)\n",
    "        removed_tags = re.findall(tag_pattern, text)\n",
    "        text = re.sub(tag_pattern, '', text)\n",
    "\n",
    "        # Remove emojis\n",
    "        removed_hashtags = re.findall(hashtag_pattern, text)\n",
    "        text = re.sub(hashtag_pattern, '', text)\n",
    "\n",
    "        # Remove special characters (newlines, tabs, etc.)\n",
    "        removed_special_chars = re.findall(special_chars_pattern, text)\n",
    "        text = re.sub(special_chars_pattern, ' ', text)\n",
    "\n",
    "        # Check for extra spaces\n",
    "        removed_extra_spaces = bool(re.search(extra_spaces_pattern, text))\n",
    "\n",
    "        # Remove extra spaces\n",
    "        text = re.sub(extra_spaces_pattern, ' ', text).strip()\n",
    "\n",
    "        # Store results in the dictionary\n",
    "        results['index'].append(idx)\n",
    "        results['original_text'].append(original_text)\n",
    "        results['cleaned_text'].append(text)\n",
    "        results['removed_links'].append(removed_links if removed_links else None)\n",
    "        results['removed_telegram_links'].append(removed_telegram_links if removed_telegram_links else None)\n",
    "        results['removed_phone_numbers'].append(removed_phone_numbers if removed_phone_numbers else None)\n",
    "        results['removed_tags'].append(removed_tags if removed_tags else None)\n",
    "        results['removed_hashtags'].append(removed_hashtags if removed_hashtags else None)\n",
    "        results['removed_special_chars'].append(removed_special_chars if removed_special_chars else None)\n",
    "        results['removed_extra_spaces'].append(removed_extra_spaces)\n",
    "\n",
    "    # Convert to DataFrame for easier analysis\n",
    "    return pd.DataFrame(results)"
   ]
  },
  {
   "cell_type": "code",
   "execution_count": 38,
   "metadata": {
    "pycharm": {
     "name": "#%%\n"
    }
   },
   "outputs": [
    {
     "data": {
      "text/html": [
       "<div>\n",
       "<style scoped>\n",
       "    .dataframe tbody tr th:only-of-type {\n",
       "        vertical-align: middle;\n",
       "    }\n",
       "\n",
       "    .dataframe tbody tr th {\n",
       "        vertical-align: top;\n",
       "    }\n",
       "\n",
       "    .dataframe thead th {\n",
       "        text-align: right;\n",
       "    }\n",
       "</style>\n",
       "<table border=\"1\" class=\"dataframe\">\n",
       "  <thead>\n",
       "    <tr style=\"text-align: right;\">\n",
       "      <th></th>\n",
       "      <th>index</th>\n",
       "      <th>original_text</th>\n",
       "      <th>cleaned_text</th>\n",
       "      <th>removed_links</th>\n",
       "      <th>removed_telegram_links</th>\n",
       "      <th>removed_phone_numbers</th>\n",
       "      <th>removed_tags</th>\n",
       "      <th>removed_hashtags</th>\n",
       "      <th>removed_special_chars</th>\n",
       "      <th>removed_extra_spaces</th>\n",
       "    </tr>\n",
       "  </thead>\n",
       "  <tbody>\n",
       "    <tr>\n",
       "      <th>0</th>\n",
       "      <td>0</td>\n",
       "      <td>The Julian Alps in Slovenia offer pristine lak...</td>\n",
       "      <td>The Julian Alps in Slovenia offer pristine lak...</td>\n",
       "      <td>None</td>\n",
       "      <td>None</td>\n",
       "      <td>None</td>\n",
       "      <td>None</td>\n",
       "      <td>None</td>\n",
       "      <td>None</td>\n",
       "      <td>True</td>\n",
       "    </tr>\n",
       "    <tr>\n",
       "      <th>1</th>\n",
       "      <td>1</td>\n",
       "      <td>The Dolomites in Italy are famous for their un...</td>\n",
       "      <td>The Dolomites in Italy are famous for their un...</td>\n",
       "      <td>None</td>\n",
       "      <td>None</td>\n",
       "      <td>None</td>\n",
       "      <td>None</td>\n",
       "      <td>None</td>\n",
       "      <td>None</td>\n",
       "      <td>True</td>\n",
       "    </tr>\n",
       "    <tr>\n",
       "      <th>2</th>\n",
       "      <td>2</td>\n",
       "      <td>Feeling the tranquility and serenity of the An...</td>\n",
       "      <td>Feeling the tranquility and serenity of the An...</td>\n",
       "      <td>None</td>\n",
       "      <td>None</td>\n",
       "      <td>None</td>\n",
       "      <td>None</td>\n",
       "      <td>[#naturelover, #mountainscape]</td>\n",
       "      <td>None</td>\n",
       "      <td>True</td>\n",
       "    </tr>\n",
       "    <tr>\n",
       "      <th>3</th>\n",
       "      <td>3</td>\n",
       "      <td>The Carpathian Mountains are a vital part of E...</td>\n",
       "      <td>The Carpathian Mountains are a vital part of E...</td>\n",
       "      <td>None</td>\n",
       "      <td>None</td>\n",
       "      <td>None</td>\n",
       "      <td>None</td>\n",
       "      <td>None</td>\n",
       "      <td>None</td>\n",
       "      <td>True</td>\n",
       "    </tr>\n",
       "    <tr>\n",
       "      <th>4</th>\n",
       "      <td>4</td>\n",
       "      <td>I explored the Tatra Mountains, a beautiful ra...</td>\n",
       "      <td>I explored the Tatra Mountains, a beautiful ra...</td>\n",
       "      <td>None</td>\n",
       "      <td>None</td>\n",
       "      <td>None</td>\n",
       "      <td>None</td>\n",
       "      <td>None</td>\n",
       "      <td>None</td>\n",
       "      <td>True</td>\n",
       "    </tr>\n",
       "    <tr>\n",
       "      <th>...</th>\n",
       "      <td>...</td>\n",
       "      <td>...</td>\n",
       "      <td>...</td>\n",
       "      <td>...</td>\n",
       "      <td>...</td>\n",
       "      <td>...</td>\n",
       "      <td>...</td>\n",
       "      <td>...</td>\n",
       "      <td>...</td>\n",
       "      <td>...</td>\n",
       "    </tr>\n",
       "    <tr>\n",
       "      <th>221</th>\n",
       "      <td>221</td>\n",
       "      <td>Discover hidden waterfalls and serene lakes ne...</td>\n",
       "      <td>Discover hidden waterfalls and serene lakes ne...</td>\n",
       "      <td>None</td>\n",
       "      <td>None</td>\n",
       "      <td>None</td>\n",
       "      <td>None</td>\n",
       "      <td>[#mountainretreat, #bulgarianwonders]</td>\n",
       "      <td>None</td>\n",
       "      <td>True</td>\n",
       "    </tr>\n",
       "    <tr>\n",
       "      <th>222</th>\n",
       "      <td>222</td>\n",
       "      <td>I trekked through the Tien Shan mountains in C...</td>\n",
       "      <td>I trekked through the Tien Shan mountains in C...</td>\n",
       "      <td>None</td>\n",
       "      <td>None</td>\n",
       "      <td>None</td>\n",
       "      <td>None</td>\n",
       "      <td>None</td>\n",
       "      <td>None</td>\n",
       "      <td>True</td>\n",
       "    </tr>\n",
       "    <tr>\n",
       "      <th>223</th>\n",
       "      <td>223</td>\n",
       "      <td>I marveled at the beauty of the Blue Ridge Mou...</td>\n",
       "      <td>I marveled at the beauty of the Blue Ridge Mou...</td>\n",
       "      <td>None</td>\n",
       "      <td>None</td>\n",
       "      <td>None</td>\n",
       "      <td>None</td>\n",
       "      <td>None</td>\n",
       "      <td>None</td>\n",
       "      <td>True</td>\n",
       "    </tr>\n",
       "    <tr>\n",
       "      <th>224</th>\n",
       "      <td>224</td>\n",
       "      <td>The Kunlun Mountains stretch across western Ch...</td>\n",
       "      <td>The Kunlun Mountains stretch across western Ch...</td>\n",
       "      <td>None</td>\n",
       "      <td>None</td>\n",
       "      <td>None</td>\n",
       "      <td>None</td>\n",
       "      <td>None</td>\n",
       "      <td>None</td>\n",
       "      <td>True</td>\n",
       "    </tr>\n",
       "    <tr>\n",
       "      <th>225</th>\n",
       "      <td>225</td>\n",
       "      <td>Witnessing the mesmerizing Northern Lights dan...</td>\n",
       "      <td>Witnessing the mesmerizing Northern Lights dan...</td>\n",
       "      <td>None</td>\n",
       "      <td>None</td>\n",
       "      <td>None</td>\n",
       "      <td>None</td>\n",
       "      <td>[#auroraborealis, #mountainmagic]</td>\n",
       "      <td>None</td>\n",
       "      <td>True</td>\n",
       "    </tr>\n",
       "  </tbody>\n",
       "</table>\n",
       "<p>226 rows × 10 columns</p>\n",
       "</div>"
      ],
      "text/plain": [
       "     index                                      original_text  \\\n",
       "0        0  The Julian Alps in Slovenia offer pristine lak...   \n",
       "1        1  The Dolomites in Italy are famous for their un...   \n",
       "2        2  Feeling the tranquility and serenity of the An...   \n",
       "3        3  The Carpathian Mountains are a vital part of E...   \n",
       "4        4  I explored the Tatra Mountains, a beautiful ra...   \n",
       "..     ...                                                ...   \n",
       "221    221  Discover hidden waterfalls and serene lakes ne...   \n",
       "222    222  I trekked through the Tien Shan mountains in C...   \n",
       "223    223  I marveled at the beauty of the Blue Ridge Mou...   \n",
       "224    224  The Kunlun Mountains stretch across western Ch...   \n",
       "225    225  Witnessing the mesmerizing Northern Lights dan...   \n",
       "\n",
       "                                          cleaned_text removed_links  \\\n",
       "0    The Julian Alps in Slovenia offer pristine lak...          None   \n",
       "1    The Dolomites in Italy are famous for their un...          None   \n",
       "2    Feeling the tranquility and serenity of the An...          None   \n",
       "3    The Carpathian Mountains are a vital part of E...          None   \n",
       "4    I explored the Tatra Mountains, a beautiful ra...          None   \n",
       "..                                                 ...           ...   \n",
       "221  Discover hidden waterfalls and serene lakes ne...          None   \n",
       "222  I trekked through the Tien Shan mountains in C...          None   \n",
       "223  I marveled at the beauty of the Blue Ridge Mou...          None   \n",
       "224  The Kunlun Mountains stretch across western Ch...          None   \n",
       "225  Witnessing the mesmerizing Northern Lights dan...          None   \n",
       "\n",
       "    removed_telegram_links removed_phone_numbers removed_tags  \\\n",
       "0                     None                  None         None   \n",
       "1                     None                  None         None   \n",
       "2                     None                  None         None   \n",
       "3                     None                  None         None   \n",
       "4                     None                  None         None   \n",
       "..                     ...                   ...          ...   \n",
       "221                   None                  None         None   \n",
       "222                   None                  None         None   \n",
       "223                   None                  None         None   \n",
       "224                   None                  None         None   \n",
       "225                   None                  None         None   \n",
       "\n",
       "                          removed_hashtags removed_special_chars  \\\n",
       "0                                     None                  None   \n",
       "1                                     None                  None   \n",
       "2           [#naturelover, #mountainscape]                  None   \n",
       "3                                     None                  None   \n",
       "4                                     None                  None   \n",
       "..                                     ...                   ...   \n",
       "221  [#mountainretreat, #bulgarianwonders]                  None   \n",
       "222                                   None                  None   \n",
       "223                                   None                  None   \n",
       "224                                   None                  None   \n",
       "225      [#auroraborealis, #mountainmagic]                  None   \n",
       "\n",
       "     removed_extra_spaces  \n",
       "0                    True  \n",
       "1                    True  \n",
       "2                    True  \n",
       "3                    True  \n",
       "4                    True  \n",
       "..                    ...  \n",
       "221                  True  \n",
       "222                  True  \n",
       "223                  True  \n",
       "224                  True  \n",
       "225                  True  \n",
       "\n",
       "[226 rows x 10 columns]"
      ]
     },
     "execution_count": 38,
     "metadata": {},
     "output_type": "execute_result"
    }
   ],
   "source": [
    "preprocess_and_find_problems(filtered_df['text'])"
   ]
  },
  {
   "cell_type": "markdown",
   "metadata": {},
   "source": [
    "Overall you can see that there are no particular problems with the text, except for the hashtags found and extra spaces. According to information from forums, hashtags and spaces should not affect model training, even with the parser parameter. So we leave it as it is"
   ]
  },
  {
   "cell_type": "markdown",
   "metadata": {},
   "source": [
    "# Creating the NER model"
   ]
  },
  {
   "cell_type": "markdown",
   "metadata": {},
   "source": [
    "## Preparing data"
   ]
  },
  {
   "cell_type": "markdown",
   "metadata": {},
   "source": [
    "To create the NER model it was decided to use spaCy library, based on which you can create your own model with different architecture.\n",
    "\n",
    "Our model will be trained to find the new class “MOUNTAIN_NAME”. First we need to bring the dataset to the view that spaCy wants for training. It looks like a dataframe, where the first column contains the text to be trained, followed by the entities with their indices that occur in the text. And since the names of mountains occur only once in the original dataset, the process is quite simple.\n",
    "\n",
    "It is also important to note that mountain names cannot be separated. If the names are two or more words, they should be preserved, because splitting can degrade the model recognition."
   ]
  },
  {
   "cell_type": "code",
   "execution_count": 39,
   "metadata": {
    "pycharm": {
     "name": "#%%\n"
    }
   },
   "outputs": [
    {
     "name": "stdout",
     "output_type": "stream",
     "text": [
      "{'text': 'The Julian Alps in Slovenia offer pristine lakes and picturesque landscapes.', 'entities': [(11, 15, 'MOUNTAIN_NAME')]}\n"
     ]
    }
   ],
   "source": [
    "training_data = {'class' : [\"MOUNTAIN_NAME\"], 'annotations' : []}\n",
    "\n",
    "for _, row in filtered_df.iterrows():\n",
    "    temp_dict = {'text': row['text'], 'entities': []}\n",
    "\n",
    "    start = row['marker'][0]\n",
    "    end = row['marker'][1]\n",
    "    temp_dict['entities'].append((start, end, \"MOUNTAIN_NAME\"))\n",
    "\n",
    "    training_data['annotations'].append(temp_dict)\n",
    "\n",
    "print(training_data['annotations'][0])"
   ]
  },
  {
   "cell_type": "markdown",
   "metadata": {},
   "source": [
    "We can see that the new representation works. We can move on to creating the model itself.\n",
    "\n",
    "To do this, we create an empty English spaCy model (since the dataset is in English) and create a DocBin class for the example training itself, since spaCy uses the [DocBin](https://spacy.io/api/docbin) class for annotated data. ([Example](https://spacy.io/usage/saving-loading))"
   ]
  },
  {
   "cell_type": "code",
   "execution_count": 40,
   "metadata": {
    "pycharm": {
     "name": "#%%\n"
    }
   },
   "outputs": [
    {
     "name": "stderr",
     "output_type": "stream",
     "text": [
      "D:\\Programming\\Python\\DataSpell_Projects\\Default Environment 311\\Lib\\site-packages\\transformers\\utils\\generic.py:441: FutureWarning: `torch.utils._pytree._register_pytree_node` is deprecated. Please use `torch.utils._pytree.register_pytree_node` instead.\n",
      "  _torch_pytree._register_pytree_node(\n",
      "D:\\Programming\\Python\\DataSpell_Projects\\Default Environment 311\\Lib\\site-packages\\transformers\\utils\\generic.py:309: FutureWarning: `torch.utils._pytree._register_pytree_node` is deprecated. Please use `torch.utils._pytree.register_pytree_node` instead.\n",
      "  _torch_pytree._register_pytree_node(\n"
     ]
    }
   ],
   "source": [
    "# load a new spacy model\n",
    "nlp = spacy.blank(\"en\")\n",
    "# create a DocBin object\n",
    "doc_bin = DocBin()"
   ]
  },
  {
   "cell_type": "markdown",
   "metadata": {},
   "source": [
    "It is also recommended to use the [filter_spans](https://spacy.io/api/top-level#util.filter_spans) function, which filters a sequence of Span objects and removes duplicates or overlaps. Useful for creating named entities (when one token can be part of only one entity). But in the current case it may not be productive, since we only have one name per sentence. In general, the function is not very demanding, especially with so much information, so we can leave it."
   ]
  },
  {
   "cell_type": "code",
   "execution_count": 41,
   "metadata": {
    "pycharm": {
     "name": "#%%\n"
    }
   },
   "outputs": [
    {
     "name": "stderr",
     "output_type": "stream",
     "text": [
      "100%|██████████| 226/226 [00:00<00:00, 3104.43it/s]\n"
     ]
    }
   ],
   "source": [
    "for training_example  in tqdm(training_data['annotations']):\n",
    "    text = training_example['text']\n",
    "    labels = training_example['entities']\n",
    "    doc = nlp.make_doc(text)\n",
    "    ents = []\n",
    "    for start, end, label in labels:\n",
    "        span = doc.char_span(start, end, label=label, alignment_mode=\"contract\")\n",
    "        if span is None:\n",
    "            print(\"Skipping entity\")\n",
    "        else:\n",
    "            ents.append(span)\n",
    "    filtered_ents = filter_spans(ents)\n",
    "    doc.ents = filtered_ents\n",
    "    doc_bin.add(doc)\n",
    "\n",
    "# save docbin\n",
    "doc_bin.to_disk(\"training_data.spacy\")"
   ]
  },
  {
   "cell_type": "markdown",
   "metadata": {},
   "source": [
    "Now we need to create a configuration file to run the model. To do this, the library [website](https://spacy.io/usage/training#quickstart) has an option to create a file with user preferences, and the library will create the rest automatically. It is also possible to create the file completely manually, but we will use the first option.\n"
   ]
  },
  {
   "cell_type": "code",
   "execution_count": 89,
   "metadata": {
    "pycharm": {
     "name": "#%%\n"
    }
   },
   "outputs": [
    {
     "data": {
      "image/png": "[encoded data removed]",
      "text/plain": [
       "<Figure size 1200x1400 with 1 Axes>"
      ]
     },
     "metadata": {},
     "output_type": "display_data"
    }
   ],
   "source": [
    "img = mpimg.imread('Screenshot 2024-10-15 131712.png')\n",
    "\n",
    "plt.figure(figsize=(12, 14))\n",
    "\n",
    "plt.imshow(img)\n",
    "plt.axis('off')\n",
    "plt.show()"
   ]
  },
  {
   "cell_type": "markdown",
   "metadata": {},
   "source": [
    "In the current task, it is necessary to use the NER parameter, and we can also specify a parser, as mentioned in the beginning. Next, we choose to use transformers, which will allow the model to focus on different parts of the input sequence, thus providing a more efficient understanding of the context and meanings of words in sentences. This requires a lot of computational resources, so it will be trained on the GPU.\n",
    "\n",
    "The assignment also states, “Select an appropriate model architecture to solve the NER problem” and “Check BERT-based pre-trained models for NER problem”. There are many architectures to choose from in the spaCy library, but the base model has the following parameters:\n",
    "\n",
    "```[components.transformer.model]\n",
    "@architectures = \"spacy-transformers.TransformerModel.v3\"\n",
    "name = \"roberta-base\"\n",
    "tokenizer_config = {\"use_fast\": true}\n",
    "```\n",
    "\n",
    "From the information I found, the current library model is based on just the roberta-base architecture, but slightly improved by the library developers. Therefore, the current parameters can be left and the model can be started"
   ]
  },
  {
   "cell_type": "markdown",
   "metadata": {},
   "source": [
    "## Config model"
   ]
  },
  {
   "cell_type": "code",
   "execution_count": 42,
   "metadata": {
    "pycharm": {
     "name": "#%%\n"
    }
   },
   "outputs": [
    {
     "name": "stdout",
     "output_type": "stream",
     "text": [
      "\u001B[38;5;2m[+] Auto-filled config with all values\u001B[0m\n",
      "\u001B[38;5;2m[+] Saved config\u001B[0m\n",
      "config.cfg\n",
      "You can now add your data and train your pipeline:\n",
      "python -m spacy train config.cfg --paths.train ./train.spacy --paths.dev ./dev.spacy\n"
     ]
    },
    {
     "name": "stderr",
     "output_type": "stream",
     "text": [
      "D:\\Programming\\Python\\DataSpell_Projects\\Default Environment 311\\Lib\\site-packages\\transformers\\utils\\generic.py:441: FutureWarning: `torch.utils._pytree._register_pytree_node` is deprecated. Please use `torch.utils._pytree.register_pytree_node` instead.\n",
      "  _torch_pytree._register_pytree_node(\n",
      "D:\\Programming\\Python\\DataSpell_Projects\\Default Environment 311\\Lib\\site-packages\\transformers\\utils\\generic.py:309: FutureWarning: `torch.utils._pytree._register_pytree_node` is deprecated. Please use `torch.utils._pytree.register_pytree_node` instead.\n",
      "  _torch_pytree._register_pytree_node(\n"
     ]
    }
   ],
   "source": [
    "!python -m spacy init fill-config base_config.cfg config.cfg"
   ]
  },
  {
   "cell_type": "markdown",
   "metadata": {},
   "source": [
    "## Train"
   ]
  },
  {
   "cell_type": "code",
   "execution_count": 43,
   "metadata": {
    "pycharm": {
     "name": "#%%\n"
    }
   },
   "outputs": [
    {
     "name": "stdout",
     "output_type": "stream",
     "text": [
      "\u001B[38;5;4m[i] Saving to output directory: .\u001B[0m"
     ]
    },
    {
     "name": "stderr",
     "output_type": "stream",
     "text": [
      "D:\\Programming\\Python\\DataSpell_Projects\\Default Environment 311\\Lib\\site-packages\\transformers\\utils\\generic.py:441: FutureWarning: `torch.utils._pytree._register_pytree_node` is deprecated. Please use `torch.utils._pytree.register_pytree_node` instead.\n",
      "  _torch_pytree._register_pytree_node(\n",
      "D:\\Programming\\Python\\DataSpell_Projects\\Default Environment 311\\Lib\\site-packages\\transformers\\utils\\generic.py:309: FutureWarning: `torch.utils._pytree._register_pytree_node` is deprecated. Please use `torch.utils._pytree.register_pytree_node` instead.\n",
      "  _torch_pytree._register_pytree_node(\n",
      "D:\\Programming\\Python\\DataSpell_Projects\\Default Environment 311\\Lib\\site-packages\\huggingface_hub\\file_download.py:1142: FutureWarning: `resume_download` is deprecated and will be removed in version 1.0.0. Downloads always resume when possible. If you want to force a new download, use `force_download=True`.\n",
      "  warnings.warn(\n",
      "D:\\Programming\\Python\\DataSpell_Projects\\Default Environment 311\\Lib\\site-packages\\transformers\\utils\\generic.py:309: FutureWarning: `torch.utils._pytree._register_pytree_node` is deprecated. Please use `torch.utils._pytree.register_pytree_node` instead.\n",
      "  _torch_pytree._register_pytree_node(\n",
      "Some weights of RobertaModel were not initialized from the model checkpoint at roberta-base and are newly initialized: ['roberta.pooler.dense.bias', 'roberta.pooler.dense.weight']\n",
      "You should probably TRAIN this model on a down-stream task to be able to use it for predictions and inference.\n"
     ]
    },
    {
     "name": "stdout",
     "output_type": "stream",
     "text": [
      "\n",
      "\u001B[38;5;4m[i] Using GPU: 0\u001B[0m\n",
      "\u001B[1m\n",
      "=========================== Initializing pipeline ===========================\u001B[0m\n",
      "\u001B[38;5;2m[+] Initialized pipeline\u001B[0m\n",
      "\u001B[1m\n",
      "============================= Training pipeline =============================\u001B[0m\n",
      "\u001B[38;5;4m[i] Pipeline: ['transformer', 'ner', 'parser']\u001B[0m\n",
      "\u001B[38;5;4m[i] Initial learn rate: 0.0\u001B[0m\n",
      "E    #       LOSS TRANS...  LOSS NER  LOSS PARSER  ENTS_F  ENTS_P  ENTS_R  DEP_UAS  DEP_LAS  SENTS_F  SCORE \n",
      "---  ------  -------------  --------  -----------  ------  ------  ------  -------  -------  -------  ------\n",
      "  0       0        2347.67    340.47         0.00    0.00    0.00    0.00     0.00     0.00     0.00    0.00\n",
      "100     200      432235.88  129261.11         0.00   18.24   12.29   35.40     0.00     0.00     0.00    0.09\n",
      "200     400       70628.79  76141.04         0.00    0.00    0.00    0.00     0.00     0.00     0.00    0.00\n",
      "300     600       50761.94  20791.63         0.00   69.75   90.78   56.64     0.00     0.00     0.00    0.35\n",
      "400     800       54726.28  10070.48         0.00   84.21   87.20   81.42     0.00     0.00     0.00    0.42\n",
      "500    1000       57560.41   6165.29         0.00   92.27   92.07   92.48     0.00     0.00     0.00    0.46\n",
      "600    1200       51808.35   3723.55         0.00   93.89   92.67   95.13     0.00     0.00     0.00    0.47\n",
      "700    1400       46603.79   2319.63         0.00   95.22   93.59   96.90     0.00     0.00     0.00    0.48\n",
      "800    1600       47628.50   1691.38         0.00   95.65   94.02   97.35     0.00     0.00     0.00    0.48\n",
      "900    1800       45338.09   1228.01         0.00   97.40   95.34   99.56     0.00     0.00     0.00    0.49\n",
      "1000    2000       45436.41    971.38         0.00   98.26   96.58  100.00     0.00     0.00     0.00    0.49\n",
      "1100    2200       45092.97    776.88         0.00   98.47   97.00  100.00     0.00     0.00     0.00    0.49\n",
      "1200    2400       49307.40    704.71         0.00   98.47   97.00  100.00     0.00     0.00     0.00    0.49\n",
      "1300    2600       47846.57    622.29         0.00   98.47   97.00  100.00     0.00     0.00     0.00    0.49\n",
      "1400    2800       47302.17    549.08         0.00   98.47   97.00  100.00     0.00     0.00     0.00    0.49\n",
      "1500    3000       50488.36    511.97         0.00   98.47   97.00  100.00     0.00     0.00     0.00    0.49\n",
      "1600    3200       50326.06    481.54         0.00   98.69   97.41  100.00     0.00     0.00     0.00    0.49\n",
      "1700    3400       49383.58    442.12         0.00   98.69   97.41  100.00     0.00     0.00     0.00    0.49\n",
      "1800    3600       48988.44    413.26         0.00   98.69   97.41  100.00     0.00     0.00     0.00    0.49\n",
      "1900    3800       47618.38    377.53         0.00   98.69   97.41  100.00     0.00     0.00     0.00    0.49\n",
      "2000    4000       45781.95    351.50         0.00   98.69   97.41  100.00     0.00     0.00     0.00    0.49\n",
      "2100    4200       44497.04    330.61         0.00   98.69   97.41  100.00     0.00     0.00     0.00    0.49\n",
      "2200    4400       46827.97    307.82         0.00   98.69   97.41  100.00     0.00     0.00     0.00    0.49\n",
      "2300    4600       40950.94    266.22         0.00   98.69   97.41  100.00     0.00     0.00     0.00    0.49\n",
      "2400    4800       42258.23    265.77         0.00   98.69   97.41  100.00     0.00     0.00     0.00    0.49\n",
      "\u001B[38;5;2m[+] Saved pipeline to output directory\u001B[0m\n",
      "model-last\n"
     ]
    }
   ],
   "source": [
    "!python -m spacy train config.cfg --output ./ --paths.train ./training_data.spacy --paths.dev ./training_data.spacy --gpu-id 0"
   ]
  },
  {
   "cell_type": "markdown",
   "metadata": {},
   "source": [
    "## Best model and tests"
   ]
  },
  {
   "cell_type": "markdown",
   "metadata": {},
   "source": [
    "Load the best model and test on randomly generated ChatGPT text."
   ]
  },
  {
   "cell_type": "code",
   "execution_count": 44,
   "metadata": {
    "pycharm": {
     "name": "#%%\n"
    }
   },
   "outputs": [
    {
     "name": "stderr",
     "output_type": "stream",
     "text": [
      "D:\\Programming\\Python\\DataSpell_Projects\\Default Environment 311\\Lib\\site-packages\\transformers\\utils\\generic.py:309: FutureWarning: `torch.utils._pytree._register_pytree_node` is deprecated. Please use `torch.utils._pytree.register_pytree_node` instead.\n",
      "  _torch_pytree._register_pytree_node(\n",
      "D:\\Programming\\Python\\DataSpell_Projects\\Default Environment 311\\Lib\\site-packages\\spacy_transformers\\layers\\hf_shim.py:124: FutureWarning: You are using `torch.load` with `weights_only=False` (the current default value), which uses the default pickle module implicitly. It is possible to construct malicious pickle data which will execute arbitrary code during unpickling (See https://github.com/pytorch/pytorch/blob/main/SECURITY.md#untrusted-models for more details). In a future release, the default value for `weights_only` will be flipped to `True`. This limits the functions that could be executed during unpickling. Arbitrary objects will no longer be allowed to be loaded via this mode unless they are explicitly allowlisted by the user via `torch.serialization.add_safe_globals`. We recommend you start setting `weights_only=True` for any use case where you don't have full control of the loaded file. Please open an issue on GitHub for any issues related to this experimental feature.\n",
      "  self._model.load_state_dict(torch.load(filelike, map_location=device))\n"
     ]
    }
   ],
   "source": [
    "nlp_ner = spacy.load(\"model-best\")"
   ]
  },
  {
   "cell_type": "code",
   "execution_count": 90,
   "metadata": {
    "pycharm": {
     "name": "#%%\n"
    }
   },
   "outputs": [
    {
     "data": {
      "text/html": [
       "<span class=\"tex2jax_ignore\"><div class=\"entities\" style=\"line-height: 2.5; direction: ltr\">The hikers planned an adventurous journey through the \n",
       "<mark class=\"entity\" style=\"background: #668eab; padding: 0.45em 0.6em; margin: 0 0.25em; line-height: 1; border-radius: 0.35em;\">\n",
       "    Alps\n",
       "    <span style=\"font-size: 0.8em; font-weight: bold; line-height: 1; border-radius: 0.35em; vertical-align: middle; margin-left: 0.5rem\">MOUNTAIN_NAME</span>\n",
       "</mark>\n",
       ", scaling \n",
       "<mark class=\"entity\" style=\"background: #668eab; padding: 0.45em 0.6em; margin: 0 0.25em; line-height: 1; border-radius: 0.35em;\">\n",
       "    Mont Blanc\n",
       "    <span style=\"font-size: 0.8em; font-weight: bold; line-height: 1; border-radius: 0.35em; vertical-align: middle; margin-left: 0.5rem\">MOUNTAIN_NAME</span>\n",
       "</mark>\n",
       ", passing by the \n",
       "<mark class=\"entity\" style=\"background: #668eab; padding: 0.45em 0.6em; margin: 0 0.25em; line-height: 1; border-radius: 0.35em;\">\n",
       "    Matterhorn,\n",
       "    <span style=\"font-size: 0.8em; font-weight: bold; line-height: 1; border-radius: 0.35em; vertical-align: middle; margin-left: 0.5rem\">MOUNTAIN_NAME</span>\n",
       "</mark>\n",
       " and ending their trek at the summit of the \n",
       "<mark class=\"entity\" style=\"background: #668eab; padding: 0.45em 0.6em; margin: 0 0.25em; line-height: 1; border-radius: 0.35em;\">\n",
       "    Dolomites\n",
       "    <span style=\"font-size: 0.8em; font-weight: bold; line-height: 1; border-radius: 0.35em; vertical-align: middle; margin-left: 0.5rem\">MOUNTAIN_NAME</span>\n",
       "</mark>\n",
       "</div></span>"
      ],
      "text/plain": [
       "<IPython.core.display.HTML object>"
      ]
     },
     "metadata": {},
     "output_type": "display_data"
    }
   ],
   "source": [
    "doc = nlp_ner(\"The hikers planned an adventurous journey through the Alps, scaling Mont Blanc, passing by the Matterhorn, and ending their trek at the summit of the Dolomites\")\n",
    "\n",
    "colors = {\"MOUNTAIN_NAME\": \"#668eab\"}\n",
    "options = {\"colors\": colors}\n",
    "\n",
    "spacy.displacy.render(doc, options= options, style=\"ent\", jupyter=True)"
   ]
  },
  {
   "cell_type": "markdown",
   "metadata": {},
   "source": [
    "Obtained a result that successfully extracts the names of mountains from the text.\n",
    "\n",
    "Let's try an example with a large number of names:"
   ]
  },
  {
   "cell_type": "code",
   "execution_count": 97,
   "metadata": {
    "pycharm": {
     "name": "#%%\n"
    }
   },
   "outputs": [
    {
     "data": {
      "text/html": [
       "<span class=\"tex2jax_ignore\"><div class=\"entities\" style=\"line-height: 2.5; direction: ltr\">\n",
       "<mark class=\"entity\" style=\"background: #668eab; padding: 0.45em 0.6em; margin: 0 0.25em; line-height: 1; border-radius: 0.35em;\">\n",
       "    Mount Everest\n",
       "    <span style=\"font-size: 0.8em; font-weight: bold; line-height: 1; border-radius: 0.35em; vertical-align: middle; margin-left: 0.5rem\">MOUNTAIN_NAME</span>\n",
       "</mark>\n",
       ", known as the tallest mountain in the world, and \n",
       "<mark class=\"entity\" style=\"background: #668eab; padding: 0.45em 0.6em; margin: 0 0.25em; line-height: 1; border-radius: 0.35em;\">\n",
       "    K2\n",
       "    <span style=\"font-size: 0.8em; font-weight: bold; line-height: 1; border-radius: 0.35em; vertical-align: middle; margin-left: 0.5rem\">MOUNTAIN_NAME</span>\n",
       "</mark>\n",
       ", the second highest peak, are both part of the majestic \n",
       "<mark class=\"entity\" style=\"background: #668eab; padding: 0.45em 0.6em; margin: 0 0.25em; line-height: 1; border-radius: 0.35em;\">\n",
       "    Himalayas\n",
       "    <span style=\"font-size: 0.8em; font-weight: bold; line-height: 1; border-radius: 0.35em; vertical-align: middle; margin-left: 0.5rem\">MOUNTAIN_NAME</span>\n",
       "</mark>\n",
       ". The \n",
       "<mark class=\"entity\" style=\"background: #668eab; padding: 0.45em 0.6em; margin: 0 0.25em; line-height: 1; border-radius: 0.35em;\">\n",
       "    Rocky Mountains\n",
       "    <span style=\"font-size: 0.8em; font-weight: bold; line-height: 1; border-radius: 0.35em; vertical-align: middle; margin-left: 0.5rem\">MOUNTAIN_NAME</span>\n",
       "</mark>\n",
       " in North America are home to stunning peaks like \n",
       "<mark class=\"entity\" style=\"background: #668eab; padding: 0.45em 0.6em; margin: 0 0.25em; line-height: 1; border-radius: 0.35em;\">\n",
       "    Mount Elbert\n",
       "    <span style=\"font-size: 0.8em; font-weight: bold; line-height: 1; border-radius: 0.35em; vertical-align: middle; margin-left: 0.5rem\">MOUNTAIN_NAME</span>\n",
       "</mark>\n",
       " and \n",
       "<mark class=\"entity\" style=\"background: #668eab; padding: 0.45em 0.6em; margin: 0 0.25em; line-height: 1; border-radius: 0.35em;\">\n",
       "    Mount Rainier\n",
       "    <span style=\"font-size: 0.8em; font-weight: bold; line-height: 1; border-radius: 0.35em; vertical-align: middle; margin-left: 0.5rem\">MOUNTAIN_NAME</span>\n",
       "</mark>\n",
       ", attracting hikers and adventurers alike. In the \n",
       "<mark class=\"entity\" style=\"background: #668eab; padding: 0.45em 0.6em; margin: 0 0.25em; line-height: 1; border-radius: 0.35em;\">\n",
       "    Andes\n",
       "    <span style=\"font-size: 0.8em; font-weight: bold; line-height: 1; border-radius: 0.35em; vertical-align: middle; margin-left: 0.5rem\">MOUNTAIN_NAME</span>\n",
       "</mark>\n",
       " mountain range, \n",
       "<mark class=\"entity\" style=\"background: #668eab; padding: 0.45em 0.6em; margin: 0 0.25em; line-height: 1; border-radius: 0.35em;\">\n",
       "    Ojos\n",
       "    <span style=\"font-size: 0.8em; font-weight: bold; line-height: 1; border-radius: 0.35em; vertical-align: middle; margin-left: 0.5rem\">MOUNTAIN_NAME</span>\n",
       "</mark>\n",
       " del \n",
       "<mark class=\"entity\" style=\"background: #668eab; padding: 0.45em 0.6em; margin: 0 0.25em; line-height: 1; border-radius: 0.35em;\">\n",
       "    Salado\n",
       "    <span style=\"font-size: 0.8em; font-weight: bold; line-height: 1; border-radius: 0.35em; vertical-align: middle; margin-left: 0.5rem\">MOUNTAIN_NAME</span>\n",
       "</mark>\n",
       ", the highest active volcano in the world, stands proudly alongside the picturesque \n",
       "<mark class=\"entity\" style=\"background: #668eab; padding: 0.45em 0.6em; margin: 0 0.25em; line-height: 1; border-radius: 0.35em;\">\n",
       "    Fitz Roy\n",
       "    <span style=\"font-size: 0.8em; font-weight: bold; line-height: 1; border-radius: 0.35em; vertical-align: middle; margin-left: 0.5rem\">MOUNTAIN_NAME</span>\n",
       "</mark>\n",
       ". Meanwhile, \n",
       "<mark class=\"entity\" style=\"background: #668eab; padding: 0.45em 0.6em; margin: 0 0.25em; line-height: 1; border-radius: 0.35em;\">\n",
       "    Mont Blanc\n",
       "    <span style=\"font-size: 0.8em; font-weight: bold; line-height: 1; border-radius: 0.35em; vertical-align: middle; margin-left: 0.5rem\">MOUNTAIN_NAME</span>\n",
       "</mark>\n",
       ", the highest mountain in the \n",
       "<mark class=\"entity\" style=\"background: #668eab; padding: 0.45em 0.6em; margin: 0 0.25em; line-height: 1; border-radius: 0.35em;\">\n",
       "    Alps\n",
       "    <span style=\"font-size: 0.8em; font-weight: bold; line-height: 1; border-radius: 0.35em; vertical-align: middle; margin-left: 0.5rem\">MOUNTAIN_NAME</span>\n",
       "</mark>\n",
       ", and \n",
       "<mark class=\"entity\" style=\"background: #668eab; padding: 0.45em 0.6em; margin: 0 0.25em; line-height: 1; border-radius: 0.35em;\">\n",
       "    Matterhorn,\n",
       "    <span style=\"font-size: 0.8em; font-weight: bold; line-height: 1; border-radius: 0.35em; vertical-align: middle; margin-left: 0.5rem\">MOUNTAIN_NAME</span>\n",
       "</mark>\n",
       " with its iconic pyramid shape, draw countless climbers each year to experience their beauty. Finally, the \n",
       "<mark class=\"entity\" style=\"background: #668eab; padding: 0.45em 0.6em; margin: 0 0.25em; line-height: 1; border-radius: 0.35em;\">\n",
       "    Atlas Mountains\n",
       "    <span style=\"font-size: 0.8em; font-weight: bold; line-height: 1; border-radius: 0.35em; vertical-align: middle; margin-left: 0.5rem\">MOUNTAIN_NAME</span>\n",
       "</mark>\n",
       " in Morocco feature Toubkal, the highest peak in North Africa, surrounded by breathtaking landscapes and rich cultural heritage.</div></span>"
      ],
      "text/plain": [
       "<IPython.core.display.HTML object>"
      ]
     },
     "metadata": {},
     "output_type": "display_data"
    }
   ],
   "source": [
    "doc = nlp_ner(\"Mount Everest, known as the tallest mountain in the world, and K2, the second highest peak, are both part of the majestic Himalayas. The Rocky Mountains in North America are home to stunning peaks like Mount Elbert and Mount Rainier, attracting hikers and adventurers alike. In the Andes mountain range, Ojos del Salado, the highest active volcano in the world, stands proudly alongside the picturesque Fitz Roy. Meanwhile, Mont Blanc, the highest mountain in the Alps, and Matterhorn, with its iconic pyramid shape, draw countless climbers each year to experience their beauty. Finally, the Atlas Mountains in Morocco feature Toubkal, the highest peak in North Africa, surrounded by breathtaking landscapes and rich cultural heritage.\")\n",
    "\n",
    "colors = {\"MOUNTAIN_NAME\": \"#668eab\"}\n",
    "options = {\"colors\": colors}\n",
    "\n",
    "spacy.displacy.render(doc, options= options, style=\"ent\", jupyter=True)"
   ]
  },
  {
   "cell_type": "markdown",
   "metadata": {},
   "source": [
    "Here, most of the names were found correctly, but there are also incorrect highlighting, such as \"Ojos del Salado\" and something that was not highlighted at all - Toubkal. This indicates that the dataset for training did not have enough data."
   ]
  },
  {
   "cell_type": "markdown",
   "metadata": {},
   "source": [
    "# Potential improvements"
   ]
  },
  {
   "cell_type": "markdown",
   "metadata": {},
   "source": [
    "Although the model works well, you can always find a way to improve the model. I suppose that the following can be done to improve it:\n",
    "- increase the amount of information for training. For ML models, in most cases, increasing the amount of data, including in a \"complex form\" (in a specific example, this could be several names of mountains that are duplicated or intersected) increases the subsequent accuracy of predicting results.\n",
    "- check other types of NER model architecture\n",
    "- experiment with different training parameters (number of training epochs, batch_size, max_batch_items, max_steps, eval_frequency, etc)."
   ]
  },
  {
   "cell_type": "code",
   "execution_count": 91,
   "metadata": {
    "pycharm": {
     "name": "#%%\n"
    }
   },
   "outputs": [],
   "source": [
    "!pip freeze > requirements.txt"
   ]
  },
  {
   "cell_type": "code",
   "execution_count": null,
   "metadata": {
    "pycharm": {
     "name": "#%%\n"
    }
   },
   "outputs": [],
   "source": []
  }
 ],
 "metadata": {
  "kernelspec": {
   "display_name": "Python 3 (ipykernel)",
   "language": "python",
   "name": "python3"
  },
  "language_info": {
   "codemirror_mode": {
    "name": "ipython",
    "version": 3
   },
   "file_extension": ".py",
   "mimetype": "text/x-python",
   "name": "python",
   "nbconvert_exporter": "python",
   "pygments_lexer": "ipython3",
   "version": "3.11.2"
  }
 },
 "nbformat": 4,
 "nbformat_minor": 1
}